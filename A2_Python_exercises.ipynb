{
  "nbformat": 4,
  "nbformat_minor": 0,
  "metadata": {
    "colab": {
      "provenance": [],
      "authorship_tag": "ABX9TyPWKLF7B6Cri5Yk8lBageAM",
      "include_colab_link": true
    },
    "kernelspec": {
      "name": "python3",
      "display_name": "Python 3"
    },
    "language_info": {
      "name": "python"
    }
  },
  "cells": [
    {
      "cell_type": "markdown",
      "metadata": {
        "id": "view-in-github",
        "colab_type": "text"
      },
      "source": [
        "<a href=\"https://colab.research.google.com/github/sotolidia/Artificial-Intelligence-LS/blob/main/A2_Python_exercises.ipynb\" target=\"_parent\"><img src=\"https://colab.research.google.com/assets/colab-badge.svg\" alt=\"Open In Colab\"/></a>"
      ]
    },
    {
      "cell_type": "markdown",
      "source": [
        "# A2: Python exercises\n",
        "## Lidia María Soto Valverde 1992303\n",
        "## Artificial Intelligence Tuesday N4"
      ],
      "metadata": {
        "id": "PmgrjOcIXRAo"
      }
    },
    {
      "cell_type": "markdown",
      "source": [
        "Create a python script where the user is going to be asked for the name. After that, the program will greet the user with the given name. Only exception: the script will not greet the user if the given name is \"Ana\", \"John\" or \"Peter\"."
      ],
      "metadata": {
        "id": "FPEUxxFnx1bU"
      }
    },
    {
      "cell_type": "code",
      "source": [
        "print (\"What's your name?\")\n",
        "name = input ()\n",
        "if name == \"Ana\":\n",
        "  print (\" \")\n",
        "elif name == \"John\":\n",
        "  print (\" \")\n",
        "elif name == \"Peter\":\n",
        "  print (\" \")\n",
        "else:\n",
        "  print (\"Hello \",name + \"!\")\n"
      ],
      "metadata": {
        "colab": {
          "base_uri": "https://localhost:8080/"
        },
        "id": "rPPIYtmtXur7",
        "outputId": "874dcc6e-ce72-484e-cabb-9ed00d4ecda5"
      },
      "execution_count": null,
      "outputs": [
        {
          "output_type": "stream",
          "name": "stdout",
          "text": [
            "What's your name?\n",
            "me\n",
            "Hello  me!\n"
          ]
        }
      ]
    },
    {
      "cell_type": "markdown",
      "source": [
        "Create a function in a pyhton script that returns (print) the last element of a given list, reverts the order of the list and finally returns (print) the reverted list. "
      ],
      "metadata": {
        "id": "gytQja57x4Sh"
      }
    },
    {
      "cell_type": "code",
      "source": [
        "myList = [\"Argentina\", \"Brazil\", \"Canada\", \"Deutschland\", \"England\", \"France\"]\n",
        "def myFunction1 ():\n",
        "  print (\"The last element is \\\"\",myList[-1] + \"\\\"\")\n",
        "myFunction1()\n",
        "myList.reverse()\n",
        "print (\"Reversed list: \", myList)"
      ],
      "metadata": {
        "colab": {
          "base_uri": "https://localhost:8080/"
        },
        "id": "Mhfch2fEQoVR",
        "outputId": "6bf8d18c-256c-4200-dafb-3199320c8cc5"
      },
      "execution_count": null,
      "outputs": [
        {
          "output_type": "stream",
          "name": "stdout",
          "text": [
            "The last element is \" France\"\n",
            "Reversed list:  ['France', 'England', 'Deutschland', 'Canada', 'Brazil', 'Argentina']\n"
          ]
        }
      ]
    },
    {
      "cell_type": "markdown",
      "source": [
        "Create a function in a python script that takes a list of strings as input and then it prints, line by line, the whole list in a rectangular shape."
      ],
      "metadata": {
        "id": "Nk4pOlsbx8RN"
      }
    },
    {
      "cell_type": "code",
      "source": [
        "def my_function(rec): \n",
        "  print(\"**********\") \n",
        "  for x in rec: \n",
        "    print(\"*  \"+x+\" * \") \n",
        "  print(\"**********\")\n",
        "\n",
        "frase = [\"Hi \",\"my\",\"name\", \"is\", \"Lidia \"] \n",
        "my_function(frase) "
      ],
      "metadata": {
        "id": "InbCovEHiGfw",
        "colab": {
          "base_uri": "https://localhost:8080/"
        },
        "outputId": "737ebffc-b8f1-462d-ffeb-1bcbd94655e8"
      },
      "execution_count": 5,
      "outputs": [
        {
          "output_type": "stream",
          "name": "stdout",
          "text": [
            "**********\n",
            "*  Hi  * \n",
            "*  my * \n",
            "*  name * \n",
            "*  is * \n",
            "*  Lidia  * \n",
            "**********\n"
          ]
        }
      ]
    }
  ]
}